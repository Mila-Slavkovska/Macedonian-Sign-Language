{
 "cells": [
  {
   "cell_type": "code",
   "execution_count": 1,
   "id": "af059d19-2a74-42a4-b681-042f2ee1caa8",
   "metadata": {},
   "outputs": [],
   "source": [
    "# !pip uninstall tensorflow opencv-python opencv-contrib-python mediapipe numpy -y"
   ]
  },
  {
   "cell_type": "markdown",
   "id": "440d7184-16dc-4954-989c-48c17eeddc25",
   "metadata": {},
   "source": [
    "# Dependencies and imports"
   ]
  },
  {
   "cell_type": "code",
   "execution_count": 5,
   "id": "dcc0ca2c-5713-4ccf-a733-02902538ffdc",
   "metadata": {},
   "outputs": [
    {
     "name": "stdout",
     "output_type": "stream",
     "text": [
      "Requirement already satisfied: numpy==1.26.4 in c:\\users\\mila\\anaconda3\\lib\\site-packages (1.26.4)\n",
      "Requirement already satisfied: opencv-contrib-python==4.8.1.78 in c:\\users\\mila\\anaconda3\\lib\\site-packages (4.8.1.78)\n",
      "Requirement already satisfied: numpy>=1.21.2 in c:\\users\\mila\\anaconda3\\lib\\site-packages (from opencv-contrib-python==4.8.1.78) (1.26.4)\n",
      "Collecting protobuf==4.25.3\n",
      "  Downloading protobuf-4.25.3-cp310-abi3-win_amd64.whl.metadata (541 bytes)\n",
      "Downloading protobuf-4.25.3-cp310-abi3-win_amd64.whl (413 kB)\n",
      "Installing collected packages: protobuf\n",
      "  Attempting uninstall: protobuf\n",
      "    Found existing installation: protobuf 6.32.0\n",
      "    Uninstalling protobuf-6.32.0:\n",
      "      Successfully uninstalled protobuf-6.32.0\n",
      "Successfully installed protobuf-4.25.3\n"
     ]
    },
    {
     "name": "stderr",
     "output_type": "stream",
     "text": [
      "ERROR: pip's dependency resolver does not currently take into account all the packages that are installed. This behaviour is the source of the following dependency conflicts.\n",
      "tensorflow 2.20.0 requires protobuf>=5.28.0, but you have protobuf 4.25.3 which is incompatible.\n"
     ]
    },
    {
     "name": "stdout",
     "output_type": "stream",
     "text": [
      "Requirement already satisfied: mediapipe in c:\\users\\mila\\anaconda3\\lib\\site-packages (0.10.21)\n",
      "Requirement already satisfied: absl-py in c:\\users\\mila\\anaconda3\\lib\\site-packages (from mediapipe) (2.3.1)\n",
      "Requirement already satisfied: attrs>=19.1.0 in c:\\users\\mila\\anaconda3\\lib\\site-packages (from mediapipe) (23.1.0)\n",
      "Requirement already satisfied: flatbuffers>=2.0 in c:\\users\\mila\\anaconda3\\lib\\site-packages (from mediapipe) (25.2.10)\n",
      "Requirement already satisfied: jax in c:\\users\\mila\\anaconda3\\lib\\site-packages (from mediapipe) (0.7.0)\n",
      "Requirement already satisfied: jaxlib in c:\\users\\mila\\anaconda3\\lib\\site-packages (from mediapipe) (0.7.0)\n",
      "Requirement already satisfied: matplotlib in c:\\users\\mila\\anaconda3\\lib\\site-packages (from mediapipe) (3.9.2)\n",
      "Requirement already satisfied: numpy<2 in c:\\users\\mila\\anaconda3\\lib\\site-packages (from mediapipe) (1.26.4)\n",
      "Requirement already satisfied: opencv-contrib-python in c:\\users\\mila\\anaconda3\\lib\\site-packages (from mediapipe) (4.8.1.78)\n",
      "Requirement already satisfied: protobuf<5,>=4.25.3 in c:\\users\\mila\\anaconda3\\lib\\site-packages (from mediapipe) (4.25.3)\n",
      "Requirement already satisfied: sounddevice>=0.4.4 in c:\\users\\mila\\anaconda3\\lib\\site-packages (from mediapipe) (0.5.2)\n",
      "Requirement already satisfied: sentencepiece in c:\\users\\mila\\anaconda3\\lib\\site-packages (from mediapipe) (0.2.1)\n",
      "Requirement already satisfied: CFFI>=1.0 in c:\\users\\mila\\anaconda3\\lib\\site-packages (from sounddevice>=0.4.4->mediapipe) (1.17.1)\n",
      "Requirement already satisfied: ml_dtypes>=0.5.0 in c:\\users\\mila\\anaconda3\\lib\\site-packages (from jax->mediapipe) (0.5.3)\n",
      "Requirement already satisfied: opt_einsum in c:\\users\\mila\\anaconda3\\lib\\site-packages (from jax->mediapipe) (3.4.0)\n",
      "Requirement already satisfied: scipy>=1.12 in c:\\users\\mila\\anaconda3\\lib\\site-packages (from jax->mediapipe) (1.13.1)\n",
      "Requirement already satisfied: contourpy>=1.0.1 in c:\\users\\mila\\anaconda3\\lib\\site-packages (from matplotlib->mediapipe) (1.3.3)\n",
      "Requirement already satisfied: cycler>=0.10 in c:\\users\\mila\\anaconda3\\lib\\site-packages (from matplotlib->mediapipe) (0.11.0)\n",
      "Requirement already satisfied: fonttools>=4.22.0 in c:\\users\\mila\\anaconda3\\lib\\site-packages (from matplotlib->mediapipe) (4.51.0)\n",
      "Requirement already satisfied: kiwisolver>=1.3.1 in c:\\users\\mila\\anaconda3\\lib\\site-packages (from matplotlib->mediapipe) (1.4.4)\n",
      "Requirement already satisfied: packaging>=20.0 in c:\\users\\mila\\anaconda3\\lib\\site-packages (from matplotlib->mediapipe) (24.1)\n",
      "Requirement already satisfied: pillow>=8 in c:\\users\\mila\\anaconda3\\lib\\site-packages (from matplotlib->mediapipe) (10.4.0)\n",
      "Requirement already satisfied: pyparsing>=2.3.1 in c:\\users\\mila\\anaconda3\\lib\\site-packages (from matplotlib->mediapipe) (3.1.2)\n",
      "Requirement already satisfied: python-dateutil>=2.7 in c:\\users\\mila\\anaconda3\\lib\\site-packages (from matplotlib->mediapipe) (2.9.0.post0)\n",
      "Requirement already satisfied: pycparser in c:\\users\\mila\\anaconda3\\lib\\site-packages (from CFFI>=1.0->sounddevice>=0.4.4->mediapipe) (2.21)\n",
      "Requirement already satisfied: six>=1.5 in c:\\users\\mila\\anaconda3\\lib\\site-packages (from python-dateutil>=2.7->matplotlib->mediapipe) (1.16.0)\n",
      "Requirement already satisfied: tensorflow in c:\\users\\mila\\anaconda3\\lib\\site-packages (2.20.0)\n",
      "Requirement already satisfied: scikit-learn in c:\\users\\mila\\anaconda3\\lib\\site-packages (1.5.1)\n",
      "Requirement already satisfied: matplotlib in c:\\users\\mila\\anaconda3\\lib\\site-packages (3.9.2)\n",
      "Requirement already satisfied: absl-py>=1.0.0 in c:\\users\\mila\\anaconda3\\lib\\site-packages (from tensorflow) (2.3.1)\n",
      "Requirement already satisfied: astunparse>=1.6.0 in c:\\users\\mila\\anaconda3\\lib\\site-packages (from tensorflow) (1.6.3)\n",
      "Requirement already satisfied: flatbuffers>=24.3.25 in c:\\users\\mila\\anaconda3\\lib\\site-packages (from tensorflow) (25.2.10)\n",
      "Requirement already satisfied: gast!=0.5.0,!=0.5.1,!=0.5.2,>=0.2.1 in c:\\users\\mila\\anaconda3\\lib\\site-packages (from tensorflow) (0.6.0)\n",
      "Requirement already satisfied: google_pasta>=0.1.1 in c:\\users\\mila\\anaconda3\\lib\\site-packages (from tensorflow) (0.2.0)\n",
      "Requirement already satisfied: libclang>=13.0.0 in c:\\users\\mila\\anaconda3\\lib\\site-packages (from tensorflow) (18.1.1)\n",
      "Requirement already satisfied: opt_einsum>=2.3.2 in c:\\users\\mila\\anaconda3\\lib\\site-packages (from tensorflow) (3.4.0)\n",
      "Requirement already satisfied: packaging in c:\\users\\mila\\anaconda3\\lib\\site-packages (from tensorflow) (24.1)\n",
      "Collecting protobuf>=5.28.0 (from tensorflow)\n",
      "  Using cached protobuf-6.32.0-cp310-abi3-win_amd64.whl.metadata (593 bytes)\n",
      "Requirement already satisfied: requests<3,>=2.21.0 in c:\\users\\mila\\anaconda3\\lib\\site-packages (from tensorflow) (2.32.3)\n",
      "Requirement already satisfied: setuptools in c:\\users\\mila\\anaconda3\\lib\\site-packages (from tensorflow) (75.1.0)\n",
      "Requirement already satisfied: six>=1.12.0 in c:\\users\\mila\\anaconda3\\lib\\site-packages (from tensorflow) (1.16.0)\n",
      "Requirement already satisfied: termcolor>=1.1.0 in c:\\users\\mila\\anaconda3\\lib\\site-packages (from tensorflow) (3.1.0)\n",
      "Requirement already satisfied: typing_extensions>=3.6.6 in c:\\users\\mila\\anaconda3\\lib\\site-packages (from tensorflow) (4.11.0)\n",
      "Requirement already satisfied: wrapt>=1.11.0 in c:\\users\\mila\\anaconda3\\lib\\site-packages (from tensorflow) (1.14.1)\n",
      "Requirement already satisfied: grpcio<2.0,>=1.24.3 in c:\\users\\mila\\anaconda3\\lib\\site-packages (from tensorflow) (1.74.0)\n",
      "Requirement already satisfied: tensorboard~=2.20.0 in c:\\users\\mila\\anaconda3\\lib\\site-packages (from tensorflow) (2.20.0)\n",
      "Requirement already satisfied: keras>=3.10.0 in c:\\users\\mila\\anaconda3\\lib\\site-packages (from tensorflow) (3.11.2)\n",
      "Requirement already satisfied: numpy>=1.26.0 in c:\\users\\mila\\anaconda3\\lib\\site-packages (from tensorflow) (1.26.4)\n",
      "Requirement already satisfied: h5py>=3.11.0 in c:\\users\\mila\\anaconda3\\lib\\site-packages (from tensorflow) (3.11.0)\n",
      "Requirement already satisfied: ml_dtypes<1.0.0,>=0.5.1 in c:\\users\\mila\\anaconda3\\lib\\site-packages (from tensorflow) (0.5.3)\n",
      "Requirement already satisfied: scipy>=1.6.0 in c:\\users\\mila\\anaconda3\\lib\\site-packages (from scikit-learn) (1.13.1)\n",
      "Requirement already satisfied: joblib>=1.2.0 in c:\\users\\mila\\anaconda3\\lib\\site-packages (from scikit-learn) (1.4.2)\n",
      "Requirement already satisfied: threadpoolctl>=3.1.0 in c:\\users\\mila\\anaconda3\\lib\\site-packages (from scikit-learn) (3.5.0)\n",
      "Requirement already satisfied: contourpy>=1.0.1 in c:\\users\\mila\\anaconda3\\lib\\site-packages (from matplotlib) (1.3.3)\n",
      "Requirement already satisfied: cycler>=0.10 in c:\\users\\mila\\anaconda3\\lib\\site-packages (from matplotlib) (0.11.0)\n",
      "Requirement already satisfied: fonttools>=4.22.0 in c:\\users\\mila\\anaconda3\\lib\\site-packages (from matplotlib) (4.51.0)\n",
      "Requirement already satisfied: kiwisolver>=1.3.1 in c:\\users\\mila\\anaconda3\\lib\\site-packages (from matplotlib) (1.4.4)\n",
      "Requirement already satisfied: pillow>=8 in c:\\users\\mila\\anaconda3\\lib\\site-packages (from matplotlib) (10.4.0)\n",
      "Requirement already satisfied: pyparsing>=2.3.1 in c:\\users\\mila\\anaconda3\\lib\\site-packages (from matplotlib) (3.1.2)\n",
      "Requirement already satisfied: python-dateutil>=2.7 in c:\\users\\mila\\anaconda3\\lib\\site-packages (from matplotlib) (2.9.0.post0)\n",
      "Requirement already satisfied: wheel<1.0,>=0.23.0 in c:\\users\\mila\\anaconda3\\lib\\site-packages (from astunparse>=1.6.0->tensorflow) (0.44.0)\n",
      "Requirement already satisfied: rich in c:\\users\\mila\\anaconda3\\lib\\site-packages (from keras>=3.10.0->tensorflow) (13.7.1)\n",
      "Requirement already satisfied: namex in c:\\users\\mila\\anaconda3\\lib\\site-packages (from keras>=3.10.0->tensorflow) (0.1.0)\n",
      "Requirement already satisfied: optree in c:\\users\\mila\\anaconda3\\lib\\site-packages (from keras>=3.10.0->tensorflow) (0.17.0)\n",
      "Requirement already satisfied: charset-normalizer<4,>=2 in c:\\users\\mila\\anaconda3\\lib\\site-packages (from requests<3,>=2.21.0->tensorflow) (3.3.2)\n",
      "Requirement already satisfied: idna<4,>=2.5 in c:\\users\\mila\\anaconda3\\lib\\site-packages (from requests<3,>=2.21.0->tensorflow) (3.7)\n",
      "Requirement already satisfied: urllib3<3,>=1.21.1 in c:\\users\\mila\\anaconda3\\lib\\site-packages (from requests<3,>=2.21.0->tensorflow) (2.2.3)\n",
      "Requirement already satisfied: certifi>=2017.4.17 in c:\\users\\mila\\anaconda3\\lib\\site-packages (from requests<3,>=2.21.0->tensorflow) (2025.8.3)\n",
      "Requirement already satisfied: markdown>=2.6.8 in c:\\users\\mila\\anaconda3\\lib\\site-packages (from tensorboard~=2.20.0->tensorflow) (3.4.1)\n",
      "Requirement already satisfied: tensorboard-data-server<0.8.0,>=0.7.0 in c:\\users\\mila\\anaconda3\\lib\\site-packages (from tensorboard~=2.20.0->tensorflow) (0.7.2)\n",
      "Requirement already satisfied: werkzeug>=1.0.1 in c:\\users\\mila\\anaconda3\\lib\\site-packages (from tensorboard~=2.20.0->tensorflow) (3.0.3)\n",
      "Requirement already satisfied: MarkupSafe>=2.1.1 in c:\\users\\mila\\anaconda3\\lib\\site-packages (from werkzeug>=1.0.1->tensorboard~=2.20.0->tensorflow) (2.1.3)\n",
      "Requirement already satisfied: markdown-it-py>=2.2.0 in c:\\users\\mila\\anaconda3\\lib\\site-packages (from rich->keras>=3.10.0->tensorflow) (2.2.0)\n",
      "Requirement already satisfied: pygments<3.0.0,>=2.13.0 in c:\\users\\mila\\anaconda3\\lib\\site-packages (from rich->keras>=3.10.0->tensorflow) (2.15.1)\n",
      "Requirement already satisfied: mdurl~=0.1 in c:\\users\\mila\\anaconda3\\lib\\site-packages (from markdown-it-py>=2.2.0->rich->keras>=3.10.0->tensorflow) (0.1.0)\n",
      "Using cached protobuf-6.32.0-cp310-abi3-win_amd64.whl (435 kB)\n",
      "Installing collected packages: protobuf\n",
      "  Attempting uninstall: protobuf\n",
      "    Found existing installation: protobuf 4.25.3\n",
      "    Uninstalling protobuf-4.25.3:\n",
      "      Successfully uninstalled protobuf-4.25.3\n",
      "Successfully installed protobuf-6.32.0\n"
     ]
    },
    {
     "name": "stderr",
     "output_type": "stream",
     "text": [
      "ERROR: pip's dependency resolver does not currently take into account all the packages that are installed. This behaviour is the source of the following dependency conflicts.\n",
      "mediapipe 0.10.21 requires protobuf<5,>=4.25.3, but you have protobuf 6.32.0 which is incompatible.\n",
      "streamlit 1.37.1 requires protobuf<6,>=3.20, but you have protobuf 6.32.0 which is incompatible.\n"
     ]
    }
   ],
   "source": [
    "!pip install numpy==1.26.4\n",
    "!pip install opencv-contrib-python==4.8.1.78\n",
    "!pip install mediapipe\n",
    "!pip install tensorflow scikit-learn matplotlib"
   ]
  },
  {
   "cell_type": "code",
   "execution_count": 3,
   "id": "382c8322-80c7-4ca1-9e3b-be6fc55b8680",
   "metadata": {},
   "outputs": [
    {
     "ename": "AttributeError",
     "evalue": "'MessageFactory' object has no attribute 'GetPrototype'",
     "output_type": "error",
     "traceback": [
      "\u001b[1;31m---------------------------------------------------------------------------\u001b[0m",
      "\u001b[1;31mAttributeError\u001b[0m                            Traceback (most recent call last)",
      "\u001b[1;31mAttributeError\u001b[0m: 'MessageFactory' object has no attribute 'GetPrototype'"
     ]
    }
   ],
   "source": [
    "import cv2\n",
    "import numpy as np\n",
    "import os\n",
    "from matplotlib import pyplot as plt\n",
    "import time\n",
    "import mediapipe as mp\n",
    "import tensorflow as tf\n",
    "from time import sleep\n",
    "from sklearn.model_selection import train_test_split\n",
    "from tensorflow.keras.utils import to_categorical"
   ]
  },
  {
   "cell_type": "code",
   "execution_count": 4,
   "id": "a2c5a73d-dbca-4c63-bc78-58e324c9bfca",
   "metadata": {},
   "outputs": [
    {
     "name": "stdout",
     "output_type": "stream",
     "text": [
      "NumPy: 1.26.4\n",
      "OpenCV: 4.8.1\n",
      "MediaPipe: 0.10.21\n",
      "TensorFlow: 2.20.0\n",
      "GPUs available: []\n"
     ]
    }
   ],
   "source": [
    "print(\"NumPy:\", np.__version__)\n",
    "print(\"OpenCV:\", cv2.__version__)\n",
    "print(\"MediaPipe:\", mp.__version__)\n",
    "print(\"TensorFlow:\", tf.__version__)\n",
    "print(\"GPUs available:\", tf.config.list_physical_devices('GPU'))"
   ]
  },
  {
   "cell_type": "markdown",
   "id": "074a567f-c080-4d59-adad-ce80477000f4",
   "metadata": {},
   "source": [
    "# MediaPipe Holistic for keypoints extraction"
   ]
  },
  {
   "cell_type": "code",
   "execution_count": 7,
   "id": "6cb77737-b830-4285-bf7d-f5d902533d20",
   "metadata": {},
   "outputs": [],
   "source": [
    "mp_holistic = mp.solutions.holistic\n",
    "mp_drawing = mp.solutions.drawing_utils"
   ]
  },
  {
   "cell_type": "code",
   "execution_count": 9,
   "id": "de8b502d-ec77-431d-a2f8-5e390d85a65b",
   "metadata": {},
   "outputs": [],
   "source": [
    "def mediapipe_detection(image, model):\n",
    "    image = cv2.cvtColor(image, cv2.COLOR_BGR2RGB)\n",
    "    image.flags.writeable = False\n",
    "    results = model.process(image)\n",
    "    image.flags.writeable = True\n",
    "    image = cv2.cvtColor(image, cv2.COLOR_RGB2BGR)\n",
    "    return image, results"
   ]
  },
  {
   "cell_type": "code",
   "execution_count": 11,
   "id": "4d7c86b0-4578-4825-b0a0-9a25a7416a96",
   "metadata": {},
   "outputs": [],
   "source": [
    "face_style = mp_drawing.DrawingSpec(color=(0, 255, 255), thickness=1, circle_radius=1)\n",
    "face_points = mp_drawing.DrawingSpec(color=(0, 128, 255), thickness=1, circle_radius=1)\n",
    "\n",
    "pose_style = mp_drawing.DrawingSpec(color=(255, 128, 0), thickness=2, circle_radius=4)\n",
    "pose_points = mp_drawing.DrawingSpec(color=(255, 200, 100), thickness=1, circle_radius=2)\n",
    "\n",
    "left_hand_style = mp_drawing.DrawingSpec(color=(147, 112, 219), thickness=2, circle_radius=4)\n",
    "left_hand_points = mp_drawing.DrawingSpec(color=(186, 85, 211), thickness=1, circle_radius=2)\n",
    "\n",
    "right_hand_style = mp_drawing.DrawingSpec(color=(60, 179, 113), thickness=2, circle_radius=4)\n",
    "right_hand_points = mp_drawing.DrawingSpec(color=(144, 238, 144), thickness=1, circle_radius=2)"
   ]
  },
  {
   "cell_type": "code",
   "execution_count": 13,
   "id": "4b5028c5-38a9-4861-add8-7427bfcd1a3b",
   "metadata": {},
   "outputs": [],
   "source": [
    "def draw_landmarks(image, results):\n",
    "    mp_drawing.draw_landmarks(image, results.face_landmarks, mp_holistic.FACEMESH_CONTOURS, face_style, face_points)\n",
    "    mp_drawing.draw_landmarks(image, results.pose_landmarks, mp_holistic.POSE_CONNECTIONS, pose_style, pose_points) \n",
    "    mp_drawing.draw_landmarks(image, results.left_hand_landmarks, mp_holistic.HAND_CONNECTIONS, left_hand_style, left_hand_points)   \n",
    "    mp_drawing.draw_landmarks(image, results.right_hand_landmarks, mp_holistic.HAND_CONNECTIONS, right_hand_style, right_hand_points) "
   ]
  },
  {
   "cell_type": "code",
   "execution_count": 19,
   "id": "52b8f207-bc67-4365-8e77-ba8285023f61",
   "metadata": {},
   "outputs": [],
   "source": [
    "cap = cv2.VideoCapture(0)\n",
    " \n",
    "with mp_holistic.Holistic(min_detection_confidence=0.5, min_tracking_confidence=0.5) as holistic:\n",
    "    while cap.isOpened():\n",
    "        ret, frame = cap.read()\n",
    "        image, results = mediapipe_detection(frame, holistic)\n",
    "        \n",
    "        draw_landmarks(image, results)\n",
    "        cv2.imshow('OpenCV Feed', image)\n",
    "\n",
    "        if cv2.waitKey(10) & 0xFF == ord('q'):\n",
    "            break\n",
    "    cap.release()\n",
    "    cv2.destroyAllWindows()"
   ]
  },
  {
   "cell_type": "code",
   "execution_count": 64,
   "id": "b7f80fc3-2b24-446e-a5ca-4b7ddc6d7348",
   "metadata": {},
   "outputs": [
    {
     "data": {
      "text/plain": [
       "468"
      ]
     },
     "execution_count": 64,
     "metadata": {},
     "output_type": "execute_result"
    }
   ],
   "source": [
    "# l/r hand -> 21 (x,y,z), pose -> 33 (x,y,z,visibility), face -> 468 (x,y,z)\n",
    "len(results.face_landmarks.landmark)"
   ]
  },
  {
   "cell_type": "code",
   "execution_count": 15,
   "id": "6eec08f7-fae4-4e6b-b45f-6cca915c2867",
   "metadata": {},
   "outputs": [],
   "source": [
    "def extract_keypoints(results):\n",
    "    pose = np.array([[res.x, res.y, res.z, res.visibility] for res in results.pose_landmarks.landmark]).flatten() if results.pose_landmarks else np.zeros(33*4)\n",
    "    face = np.array([[res.x, res.y, res.z] for res in results.face_landmarks.landmark]).flatten() if results.face_landmarks else np.zeros(468*3)\n",
    "    lh = np.array([[res.x, res.y, res.z] for res in results.left_hand_landmarks.landmark]).flatten() if results.left_hand_landmarks else np.zeros(21*3)\n",
    "    rh = np.array([[res.x, res.y, res.z] for res in results.right_hand_landmarks.landmark]).flatten() if results.right_hand_landmarks else np.zeros(21*3)\n",
    "    return np.concatenate([pose, face, lh, rh])"
   ]
  },
  {
   "cell_type": "code",
   "execution_count": 25,
   "id": "6034a81a-1a89-4db2-9773-788c46114226",
   "metadata": {},
   "outputs": [
    {
     "data": {
      "text/plain": [
       "1662"
      ]
     },
     "execution_count": 25,
     "metadata": {},
     "output_type": "execute_result"
    }
   ],
   "source": [
    "result_test = extract_keypoints(results)\n",
    "len(result_test)"
   ]
  },
  {
   "cell_type": "markdown",
   "id": "b6531ddd-77c1-4278-ba7b-779019da2a9b",
   "metadata": {},
   "source": [
    "# Data collection"
   ]
  },
  {
   "cell_type": "code",
   "execution_count": 17,
   "id": "0920dc2d-49cf-4c44-bc12-8711e168611e",
   "metadata": {},
   "outputs": [],
   "source": [
    "DATA_PATH = os.path.join('MSL_Data') \n",
    "actions = np.array(['А', 'Б', 'В', 'Г', 'Д', 'Ѓ', 'Е', 'Ж', 'З', 'Ѕ', 'И', 'Ј', 'К', 'Л', 'Љ', 'М', 'Н', 'Њ',\n",
    "                   'О', 'П', 'Р', 'С', 'Т', 'Ќ', 'У', 'Ф', 'Х', 'Ц', 'Ч', 'Џ', 'Ш'])\n",
    "action_labels = np.array(['A', 'B', 'V', 'G', 'D', 'Gj', 'E', 'Zh', 'Z', 'Dz', 'I', 'J', 'K', 'L', 'Lj', 'M', 'N', 'Nj',\n",
    "                   'O', 'P', 'R', 'S', 'T', 'Kj', 'U', 'F', 'H', 'C', 'Ch', 'Dj', 'Sh'])\n",
    "num_videos = 10\n",
    "num_frames = 30\n",
    "start_folder = 11"
   ]
  },
  {
   "cell_type": "code",
   "execution_count": 70,
   "id": "1d3c21a3-10c0-4e1e-b41e-1564b9d42caa",
   "metadata": {},
   "outputs": [],
   "source": [
    "for action in actions:\n",
    "    action_path = os.path.join(DATA_PATH, action)\n",
    "    \n",
    "    os.makedirs(action_path, exist_ok=True)\n",
    "\n",
    "    existing_dirs = [d for d in os.listdir(action_path) if d.isdigit()]\n",
    "    if existing_dirs:\n",
    "        dirmax = np.max(np.array(existing_dirs).astype(int))\n",
    "    else:\n",
    "        dirmax = 0\n",
    "\n",
    "    for sequence in range(1, num_videos + 1):\n",
    "        new_dir = os.path.join(action_path, str(dirmax + sequence))\n",
    "        os.makedirs(new_dir, exist_ok=True)"
   ]
  },
  {
   "cell_type": "code",
   "execution_count": 19,
   "id": "43ebbe02-551a-427c-847a-59349aeb5f16",
   "metadata": {},
   "outputs": [
    {
     "data": {
      "text/plain": [
       "{'А': 11,\n",
       " 'Б': 11,\n",
       " 'В': 11,\n",
       " 'Г': 11,\n",
       " 'Д': 11,\n",
       " 'Ѓ': 11,\n",
       " 'Е': 11,\n",
       " 'Ж': 11,\n",
       " 'З': 11,\n",
       " 'Ѕ': 11,\n",
       " 'И': 11,\n",
       " 'Ј': 11,\n",
       " 'К': 11,\n",
       " 'Л': 11,\n",
       " 'Љ': 11,\n",
       " 'М': 11,\n",
       " 'Н': 11,\n",
       " 'Њ': 11,\n",
       " 'О': 11,\n",
       " 'П': 11,\n",
       " 'Р': 11,\n",
       " 'С': 11,\n",
       " 'Т': 11,\n",
       " 'Ќ': 11,\n",
       " 'У': 11,\n",
       " 'Ф': 11,\n",
       " 'Х': 11,\n",
       " 'Ц': 11,\n",
       " 'Ч': 11,\n",
       " 'Џ': 11,\n",
       " 'Ш': 11}"
      ]
     },
     "execution_count": 19,
     "metadata": {},
     "output_type": "execute_result"
    }
   ],
   "source": [
    "data_collection_map = {label:start_folder for label in actions}\n",
    "data_collection_map"
   ]
  },
  {
   "cell_type": "code",
   "execution_count": 90,
   "id": "24357b94-6c5f-4c50-8168-927bf7e70667",
   "metadata": {},
   "outputs": [
    {
     "name": "stdout",
     "output_type": "stream",
     "text": [
      "Switched to action: Б\n",
      "Switched to action: В\n",
      "Switched to action: Г\n",
      "Switched to action: Д\n",
      "Switched to action: Ѓ\n",
      "Switched to action: Е\n",
      "Switched to action: Ж\n",
      "Switched to action: З\n",
      "Switched to action: Ѕ\n",
      "Switched to action: И\n",
      "Switched to action: Ј\n",
      "Switched to action: К\n",
      "Switched to action: Л\n",
      "Switched to action: Љ\n",
      "Switched to action: М\n",
      "Switched to action: Н\n",
      "Switched to action: Њ\n",
      "Switched to action: О\n",
      "Switched to action: П\n",
      "Switched to action: Р\n",
      "Switched to action: С\n",
      "Switched to action: Т\n",
      "Switched to action: Ќ\n",
      "Switched to action: У\n",
      "Switched to action: Ф\n",
      "Recording action: Ф, Video #1\n",
      "Finished recording: Ф, Video #1\n",
      "Recording action: Ф, Video #2\n",
      "Finished recording: Ф, Video #2\n",
      "Recording action: Ф, Video #3\n",
      "Finished recording: Ф, Video #3\n",
      "Recording action: Ф, Video #4\n",
      "Finished recording: Ф, Video #4\n",
      "Recording action: Ф, Video #5\n",
      "Finished recording: Ф, Video #5\n",
      "Recording action: Ф, Video #6\n",
      "Finished recording: Ф, Video #6\n",
      "Recording action: Ф, Video #7\n",
      "Finished recording: Ф, Video #7\n",
      "Recording action: Ф, Video #8\n",
      "Finished recording: Ф, Video #8\n",
      "Recording action: Ф, Video #9\n",
      "Finished recording: Ф, Video #9\n",
      "Recording action: Ф, Video #10\n",
      "Finished recording: Ф, Video #10\n",
      "Switched to action: Х\n",
      "Recording action: Х, Video #1\n",
      "Finished recording: Х, Video #1\n",
      "Recording action: Х, Video #2\n",
      "Finished recording: Х, Video #2\n",
      "Recording action: Х, Video #3\n",
      "Finished recording: Х, Video #3\n",
      "Recording action: Х, Video #4\n",
      "Finished recording: Х, Video #4\n",
      "Recording action: Х, Video #5\n",
      "Finished recording: Х, Video #5\n",
      "Recording action: Х, Video #6\n",
      "Finished recording: Х, Video #6\n",
      "Recording action: Х, Video #7\n",
      "Finished recording: Х, Video #7\n",
      "Recording action: Х, Video #8\n",
      "Finished recording: Х, Video #8\n",
      "Recording action: Х, Video #9\n",
      "Finished recording: Х, Video #9\n",
      "Recording action: Х, Video #10\n",
      "Finished recording: Х, Video #10\n",
      "Switched to action: Ц\n",
      "Recording action: Ц, Video #1\n",
      "Finished recording: Ц, Video #1\n",
      "Recording action: Ц, Video #2\n",
      "Finished recording: Ц, Video #2\n",
      "Recording action: Ц, Video #3\n",
      "Finished recording: Ц, Video #3\n",
      "Recording action: Ц, Video #4\n",
      "Finished recording: Ц, Video #4\n",
      "Recording action: Ц, Video #5\n",
      "Finished recording: Ц, Video #5\n",
      "Recording action: Ц, Video #6\n",
      "Finished recording: Ц, Video #6\n",
      "Recording action: Ц, Video #7\n",
      "Finished recording: Ц, Video #7\n",
      "Recording action: Ц, Video #8\n",
      "Finished recording: Ц, Video #8\n",
      "Recording action: Ц, Video #9\n",
      "Finished recording: Ц, Video #9\n",
      "Recording action: Ц, Video #10\n",
      "Finished recording: Ц, Video #10\n",
      "Switched to action: Ч\n",
      "Recording action: Ч, Video #1\n",
      "Finished recording: Ч, Video #1\n",
      "Recording action: Ч, Video #2\n",
      "Finished recording: Ч, Video #2\n",
      "Recording action: Ч, Video #3\n",
      "Finished recording: Ч, Video #3\n",
      "Recording action: Ч, Video #4\n",
      "Finished recording: Ч, Video #4\n",
      "Recording action: Ч, Video #5\n",
      "Finished recording: Ч, Video #5\n",
      "Recording action: Ч, Video #6\n",
      "Finished recording: Ч, Video #6\n",
      "Recording action: Ч, Video #7\n",
      "Finished recording: Ч, Video #7\n",
      "Recording action: Ч, Video #8\n",
      "Finished recording: Ч, Video #8\n",
      "Recording action: Ч, Video #9\n",
      "Finished recording: Ч, Video #9\n",
      "Recording action: Ч, Video #10\n",
      "Finished recording: Ч, Video #10\n",
      "Switched to action: Џ\n",
      "Recording action: Џ, Video #1\n",
      "Finished recording: Џ, Video #1\n",
      "Recording action: Џ, Video #2\n",
      "Finished recording: Џ, Video #2\n",
      "Recording action: Џ, Video #3\n",
      "Finished recording: Џ, Video #3\n",
      "Recording action: Џ, Video #4\n",
      "Finished recording: Џ, Video #4\n",
      "Recording action: Џ, Video #5\n",
      "Finished recording: Џ, Video #5\n",
      "Recording action: Џ, Video #6\n",
      "Finished recording: Џ, Video #6\n",
      "Recording action: Џ, Video #7\n",
      "Finished recording: Џ, Video #7\n",
      "Recording action: Џ, Video #8\n",
      "Finished recording: Џ, Video #8\n",
      "Recording action: Џ, Video #9\n",
      "Finished recording: Џ, Video #9\n",
      "Recording action: Џ, Video #10\n",
      "Finished recording: Џ, Video #10\n",
      "Switched to action: Ш\n",
      "Recording action: Ш, Video #1\n",
      "Finished recording: Ш, Video #1\n",
      "Recording action: Ш, Video #2\n",
      "Finished recording: Ш, Video #2\n",
      "Recording action: Ш, Video #3\n",
      "Finished recording: Ш, Video #3\n",
      "Recording action: Ш, Video #4\n",
      "Finished recording: Ш, Video #4\n",
      "Recording action: Ш, Video #5\n",
      "Finished recording: Ш, Video #5\n",
      "Recording action: Ш, Video #6\n",
      "Finished recording: Ш, Video #6\n",
      "Recording action: Ш, Video #7\n",
      "Finished recording: Ш, Video #7\n",
      "Recording action: Ш, Video #8\n",
      "Finished recording: Ш, Video #8\n",
      "Recording action: Ш, Video #9\n",
      "Finished recording: Ш, Video #9\n",
      "Recording action: Ш, Video #10\n",
      "Finished recording: Ш, Video #10\n"
     ]
    }
   ],
   "source": [
    "cap = cv2.VideoCapture(0)\n",
    "with mp_holistic.Holistic(min_detection_confidence=0.5, min_tracking_confidence=0.5) as holistic:\n",
    "\n",
    "    current_action_index = 0\n",
    "    recording = False\n",
    "    frame_num = 0\n",
    "\n",
    "    while cap.isOpened():\n",
    "        ret, frame = cap.read()\n",
    "        if not ret:\n",
    "            continue\n",
    "\n",
    "        image, results = mediapipe_detection(frame, holistic)\n",
    "        draw_landmarks(image, results)\n",
    "\n",
    "        action = actions[current_action_index]\n",
    "        action_label = action_labels[current_action_index]\n",
    "        sequence = data_collection_map[action]\n",
    "\n",
    "        if not recording:\n",
    "            cv2.putText(image, f\"Press 's' to record {action_label} (Video #{sequence})\", (10, 30),\n",
    "                        cv2.FONT_HERSHEY_SIMPLEX, 0.7, (0, 255, 255), 2)\n",
    "        else:\n",
    "            cv2.putText(image, f\"Recording {action_label} - Frame {frame_num+1}/30\", (10, 30),\n",
    "                        cv2.FONT_HERSHEY_SIMPLEX, 0.7, (0, 0, 255), 2)\n",
    "\n",
    "        cv2.imshow('OpenCV Feed', image)\n",
    "\n",
    "        key = cv2.waitKey(10) & 0xFF\n",
    "\n",
    "        if key == ord('q'):\n",
    "            break\n",
    "\n",
    "        elif key == ord('s') and not recording:\n",
    "            recording = True\n",
    "            frame_num = 0\n",
    "            print(f\"Recording action: {action}, Video #{sequence}\")\n",
    "            sleep(1)\n",
    "\n",
    "        elif key == ord('n') and not recording:\n",
    "            current_action_index = (current_action_index + 1) % len(actions)\n",
    "            print(f\"Switched to action: {actions[current_action_index]}\")\n",
    "\n",
    "        if recording:\n",
    "            keypoints = extract_keypoints(results)\n",
    "\n",
    "            save_dir = os.path.join(DATA_PATH, action, str(sequence))\n",
    "            os.makedirs(save_dir, exist_ok=True)\n",
    "            np.save(os.path.join(save_dir, str(frame_num)), keypoints)\n",
    "\n",
    "            frame_num += 1\n",
    "            cv2.waitKey(30)\n",
    "\n",
    "            if frame_num >= num_frames:\n",
    "                print(f\"Finished recording: {action}, Video #{sequence}\")\n",
    "                data_collection_map[action] += 1\n",
    "                recording = False\n",
    "\n",
    "cap.release()\n",
    "cv2.destroyAllWindows()"
   ]
  },
  {
   "cell_type": "code",
   "execution_count": 21,
   "id": "b0abea50-ac32-4406-b7ea-0906dbafbf7e",
   "metadata": {},
   "outputs": [
    {
     "data": {
      "text/plain": [
       "{'А': 11,\n",
       " 'Б': 11,\n",
       " 'В': 11,\n",
       " 'Г': 11,\n",
       " 'Д': 11,\n",
       " 'Ѓ': 11,\n",
       " 'Е': 11,\n",
       " 'Ж': 11,\n",
       " 'З': 11,\n",
       " 'Ѕ': 11,\n",
       " 'И': 11,\n",
       " 'Ј': 11,\n",
       " 'К': 11,\n",
       " 'Л': 11,\n",
       " 'Љ': 11,\n",
       " 'М': 11,\n",
       " 'Н': 11,\n",
       " 'Њ': 11,\n",
       " 'О': 11,\n",
       " 'П': 11,\n",
       " 'Р': 11,\n",
       " 'С': 11,\n",
       " 'Т': 11,\n",
       " 'Ќ': 11,\n",
       " 'У': 11,\n",
       " 'Ф': 11,\n",
       " 'Х': 11,\n",
       " 'Ц': 11,\n",
       " 'Ч': 11,\n",
       " 'Џ': 11,\n",
       " 'Ш': 11}"
      ]
     },
     "execution_count": 21,
     "metadata": {},
     "output_type": "execute_result"
    }
   ],
   "source": [
    "data_collection_map"
   ]
  },
  {
   "cell_type": "code",
   "execution_count": 23,
   "id": "5c705f8f-c1fb-453e-a434-bbac2a59edf0",
   "metadata": {},
   "outputs": [
    {
     "data": {
      "text/plain": [
       "{'А': 0,\n",
       " 'Б': 1,\n",
       " 'В': 2,\n",
       " 'Г': 3,\n",
       " 'Д': 4,\n",
       " 'Ѓ': 5,\n",
       " 'Е': 6,\n",
       " 'Ж': 7,\n",
       " 'З': 8,\n",
       " 'Ѕ': 9,\n",
       " 'И': 10,\n",
       " 'Ј': 11,\n",
       " 'К': 12,\n",
       " 'Л': 13,\n",
       " 'Љ': 14,\n",
       " 'М': 15,\n",
       " 'Н': 16,\n",
       " 'Њ': 17,\n",
       " 'О': 18,\n",
       " 'П': 19,\n",
       " 'Р': 20,\n",
       " 'С': 21,\n",
       " 'Т': 22,\n",
       " 'Ќ': 23,\n",
       " 'У': 24,\n",
       " 'Ф': 25,\n",
       " 'Х': 26,\n",
       " 'Ц': 27,\n",
       " 'Ч': 28,\n",
       " 'Џ': 29,\n",
       " 'Ш': 30}"
      ]
     },
     "execution_count": 23,
     "metadata": {},
     "output_type": "execute_result"
    }
   ],
   "source": [
    "label_map = {label:num for num, label in enumerate(actions)}\n",
    "label_map"
   ]
  },
  {
   "cell_type": "code",
   "execution_count": 49,
   "id": "95b0bdd0-9961-42f6-918d-35c662c4b152",
   "metadata": {},
   "outputs": [],
   "source": [
    "sequences, labels = [], []\n",
    "for action in actions:\n",
    "    for sequence in np.array(os.listdir(os.path.join(DATA_PATH, action))).astype(int): \n",
    "        window = []\n",
    "        for frame_num in range(num_frames):\n",
    "            res = np.load(os.path.join(DATA_PATH, action, str(sequence), \"{}.npy\".format(frame_num)))\n",
    "            window.append(res)\n",
    "        sequences.append(window)\n",
    "        labels.append(label_map[action])"
   ]
  },
  {
   "cell_type": "code",
   "execution_count": 51,
   "id": "d581f4c3-3f72-488a-b535-188e0a91d456",
   "metadata": {},
   "outputs": [
    {
     "data": {
      "text/plain": [
       "(310, 30, 1662)"
      ]
     },
     "execution_count": 51,
     "metadata": {},
     "output_type": "execute_result"
    }
   ],
   "source": [
    "x = np.array(sequences)\n",
    "x.shape"
   ]
  },
  {
   "cell_type": "code",
   "execution_count": 53,
   "id": "a805f977-d9c9-48af-afca-9c8ef9232576",
   "metadata": {},
   "outputs": [
    {
     "data": {
      "text/plain": [
       "(310, 31)"
      ]
     },
     "execution_count": 53,
     "metadata": {},
     "output_type": "execute_result"
    }
   ],
   "source": [
    "y = to_categorical(labels).astype(int)\n",
    "y.shape"
   ]
  },
  {
   "cell_type": "code",
   "execution_count": 55,
   "id": "30f1e3cd-5706-4375-b98f-f9b70ae5477f",
   "metadata": {},
   "outputs": [],
   "source": [
    "x_train, x_test, y_train, y_test = train_test_split(x, y, test_size=0.1)"
   ]
  },
  {
   "cell_type": "markdown",
   "id": "e70484b9-0450-49d8-8732-f830a56ba505",
   "metadata": {},
   "source": [
    "# Define and train model"
   ]
  },
  {
   "cell_type": "code",
   "execution_count": 47,
   "id": "b5686ac6-d184-432b-9577-9971b09490dd",
   "metadata": {},
   "outputs": [
    {
     "data": {
      "text/plain": [
       "array([[1, 0, 0, ..., 0, 0, 0],\n",
       "       [1, 0, 0, ..., 0, 0, 0],\n",
       "       [1, 0, 0, ..., 0, 0, 0],\n",
       "       ...,\n",
       "       [0, 0, 0, ..., 0, 0, 1],\n",
       "       [0, 0, 0, ..., 0, 0, 1],\n",
       "       [0, 0, 0, ..., 0, 0, 1]])"
      ]
     },
     "execution_count": 47,
     "metadata": {},
     "output_type": "execute_result"
    }
   ],
   "source": [
    "y"
   ]
  }
 ],
 "metadata": {
  "kernelspec": {
   "display_name": "Python [conda env:base] *",
   "language": "python",
   "name": "conda-base-py"
  },
  "language_info": {
   "codemirror_mode": {
    "name": "ipython",
    "version": 3
   },
   "file_extension": ".py",
   "mimetype": "text/x-python",
   "name": "python",
   "nbconvert_exporter": "python",
   "pygments_lexer": "ipython3",
   "version": "3.12.7"
  }
 },
 "nbformat": 4,
 "nbformat_minor": 5
}
