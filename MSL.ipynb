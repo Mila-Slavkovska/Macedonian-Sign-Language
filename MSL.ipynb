{
 "cells": [
  {
   "cell_type": "code",
   "execution_count": 24,
   "id": "af059d19-2a74-42a4-b681-042f2ee1caa8",
   "metadata": {
    "collapsed": true,
    "jupyter": {
     "outputs_hidden": true
    }
   },
   "outputs": [
    {
     "name": "stdout",
     "output_type": "stream",
     "text": [
      "Found existing installation: tensorflow 2.19.0\n",
      "Uninstalling tensorflow-2.19.0:\n",
      "  Successfully uninstalled tensorflow-2.19.0\n",
      "Found existing installation: opencv-python 4.8.1.78\n",
      "Uninstalling opencv-python-4.8.1.78:\n",
      "  Successfully uninstalled opencv-python-4.8.1.78\n",
      "Found existing installation: mediapipe 0.10.14\n",
      "Uninstalling mediapipe-0.10.14:\n",
      "  Successfully uninstalled mediapipe-0.10.14\n",
      "Found existing installation: numpy 1.26.4\n",
      "Uninstalling numpy-1.26.4:\n",
      "  Successfully uninstalled numpy-1.26.4\n"
     ]
    },
    {
     "name": "stderr",
     "output_type": "stream",
     "text": [
      "WARNING: Failed to remove contents in a temporary directory 'C:\\Users\\Mila\\anaconda3\\Lib\\site-packages\\~ensorflow'.\n",
      "You can safely remove it manually.\n",
      "WARNING: Skipping opencv-contrib-python as it is not installed.\n",
      "WARNING: Failed to remove contents in a temporary directory 'C:\\Users\\Mila\\anaconda3\\Lib\\site-packages\\~ediapipe'.\n",
      "You can safely remove it manually.\n"
     ]
    }
   ],
   "source": [
    "!pip uninstall tensorflow opencv-python opencv-contrib-python mediapipe numpy -y"
   ]
  },
  {
   "cell_type": "code",
   "execution_count": 1,
   "id": "dcc0ca2c-5713-4ccf-a733-02902538ffdc",
   "metadata": {
    "collapsed": true,
    "jupyter": {
     "outputs_hidden": true
    }
   },
   "outputs": [
    {
     "name": "stdout",
     "output_type": "stream",
     "text": [
      "Collecting numpy==1.26.4\n",
      "  Using cached numpy-1.26.4-cp312-cp312-win_amd64.whl.metadata (61 kB)\n",
      "Using cached numpy-1.26.4-cp312-cp312-win_amd64.whl (15.5 MB)\n",
      "Installing collected packages: numpy\n",
      "Successfully installed numpy-1.26.4\n",
      "Collecting opencv-contrib-python==4.8.1.78\n",
      "  Downloading opencv_contrib_python-4.8.1.78-cp37-abi3-win_amd64.whl.metadata (20 kB)\n",
      "Requirement already satisfied: numpy>=1.21.2 in c:\\users\\mila\\anaconda3\\lib\\site-packages (from opencv-contrib-python==4.8.1.78) (1.26.4)\n",
      "Downloading opencv_contrib_python-4.8.1.78-cp37-abi3-win_amd64.whl (44.8 MB)\n",
      "   ---------------------------------------- 0.0/44.8 MB ? eta -:--:--\n",
      "    --------------------------------------- 1.0/44.8 MB 5.6 MB/s eta 0:00:08\n",
      "   -- ------------------------------------- 2.9/44.8 MB 7.3 MB/s eta 0:00:06\n",
      "   ---- ----------------------------------- 5.0/44.8 MB 7.9 MB/s eta 0:00:06\n",
      "   ----- ---------------------------------- 6.3/44.8 MB 7.7 MB/s eta 0:00:05\n",
      "   ------- -------------------------------- 8.1/44.8 MB 7.7 MB/s eta 0:00:05\n",
      "   -------- ------------------------------- 9.7/44.8 MB 7.7 MB/s eta 0:00:05\n",
      "   ---------- ----------------------------- 11.3/44.8 MB 7.7 MB/s eta 0:00:05\n",
      "   ----------- ---------------------------- 12.6/44.8 MB 7.6 MB/s eta 0:00:05\n",
      "   ------------ --------------------------- 14.2/44.8 MB 7.4 MB/s eta 0:00:05\n",
      "   ------------- -------------------------- 15.5/44.8 MB 7.4 MB/s eta 0:00:04\n",
      "   -------------- ------------------------- 16.8/44.8 MB 7.3 MB/s eta 0:00:04\n",
      "   ---------------- ----------------------- 18.1/44.8 MB 7.1 MB/s eta 0:00:04\n",
      "   ----------------- ---------------------- 19.4/44.8 MB 7.0 MB/s eta 0:00:04\n",
      "   ------------------ --------------------- 21.0/44.8 MB 7.1 MB/s eta 0:00:04\n",
      "   -------------------- ------------------- 22.5/44.8 MB 7.1 MB/s eta 0:00:04\n",
      "   --------------------- ------------------ 24.1/44.8 MB 7.2 MB/s eta 0:00:03\n",
      "   ---------------------- ----------------- 25.7/44.8 MB 7.2 MB/s eta 0:00:03\n",
      "   ------------------------ --------------- 27.3/44.8 MB 7.2 MB/s eta 0:00:03\n",
      "   ------------------------- -------------- 28.8/44.8 MB 7.2 MB/s eta 0:00:03\n",
      "   --------------------------- ------------ 30.4/44.8 MB 7.2 MB/s eta 0:00:03\n",
      "   ---------------------------- ----------- 32.0/44.8 MB 7.2 MB/s eta 0:00:02\n",
      "   ----------------------------- ---------- 33.6/44.8 MB 7.2 MB/s eta 0:00:02\n",
      "   ------------------------------- -------- 35.1/44.8 MB 7.2 MB/s eta 0:00:02\n",
      "   -------------------------------- ------- 36.4/44.8 MB 7.2 MB/s eta 0:00:02\n",
      "   --------------------------------- ------ 38.0/44.8 MB 7.2 MB/s eta 0:00:01\n",
      "   ----------------------------------- ---- 39.6/44.8 MB 7.2 MB/s eta 0:00:01\n",
      "   ------------------------------------ --- 41.2/44.8 MB 7.2 MB/s eta 0:00:01\n",
      "   ------------------------------------- -- 42.5/44.8 MB 7.2 MB/s eta 0:00:01\n",
      "   ---------------------------------------  44.0/44.8 MB 7.2 MB/s eta 0:00:01\n",
      "   ---------------------------------------  44.6/44.8 MB 7.2 MB/s eta 0:00:01\n",
      "   ---------------------------------------- 44.8/44.8 MB 7.0 MB/s eta 0:00:00\n",
      "Installing collected packages: opencv-contrib-python\n",
      "Successfully installed opencv-contrib-python-4.8.1.78\n",
      "Collecting mediapipe\n",
      "  Using cached mediapipe-0.10.21-cp312-cp312-win_amd64.whl.metadata (10 kB)\n",
      "Requirement already satisfied: absl-py in c:\\users\\mila\\anaconda3\\lib\\site-packages (from mediapipe) (2.3.1)\n",
      "Requirement already satisfied: attrs>=19.1.0 in c:\\users\\mila\\anaconda3\\lib\\site-packages (from mediapipe) (23.1.0)\n",
      "Requirement already satisfied: flatbuffers>=2.0 in c:\\users\\mila\\anaconda3\\lib\\site-packages (from mediapipe) (25.2.10)\n",
      "Requirement already satisfied: jax in c:\\users\\mila\\anaconda3\\lib\\site-packages (from mediapipe) (0.7.0)\n",
      "Requirement already satisfied: jaxlib in c:\\users\\mila\\anaconda3\\lib\\site-packages (from mediapipe) (0.7.0)\n",
      "Requirement already satisfied: matplotlib in c:\\users\\mila\\anaconda3\\lib\\site-packages (from mediapipe) (3.9.2)\n",
      "Requirement already satisfied: numpy<2 in c:\\users\\mila\\anaconda3\\lib\\site-packages (from mediapipe) (1.26.4)\n",
      "Requirement already satisfied: opencv-contrib-python in c:\\users\\mila\\anaconda3\\lib\\site-packages (from mediapipe) (4.8.1.78)\n",
      "Requirement already satisfied: protobuf<5,>=4.25.3 in c:\\users\\mila\\anaconda3\\lib\\site-packages (from mediapipe) (4.25.3)\n",
      "Requirement already satisfied: sounddevice>=0.4.4 in c:\\users\\mila\\anaconda3\\lib\\site-packages (from mediapipe) (0.5.2)\n",
      "Collecting sentencepiece (from mediapipe)\n",
      "  Downloading sentencepiece-0.2.1-cp312-cp312-win_amd64.whl.metadata (10 kB)\n",
      "Requirement already satisfied: CFFI>=1.0 in c:\\users\\mila\\anaconda3\\lib\\site-packages (from sounddevice>=0.4.4->mediapipe) (1.17.1)\n",
      "Requirement already satisfied: ml_dtypes>=0.5.0 in c:\\users\\mila\\anaconda3\\lib\\site-packages (from jax->mediapipe) (0.5.3)\n",
      "Requirement already satisfied: opt_einsum in c:\\users\\mila\\anaconda3\\lib\\site-packages (from jax->mediapipe) (3.4.0)\n",
      "Requirement already satisfied: scipy>=1.12 in c:\\users\\mila\\anaconda3\\lib\\site-packages (from jax->mediapipe) (1.13.1)\n",
      "Requirement already satisfied: contourpy>=1.0.1 in c:\\users\\mila\\anaconda3\\lib\\site-packages (from matplotlib->mediapipe) (1.3.3)\n",
      "Requirement already satisfied: cycler>=0.10 in c:\\users\\mila\\anaconda3\\lib\\site-packages (from matplotlib->mediapipe) (0.11.0)\n",
      "Requirement already satisfied: fonttools>=4.22.0 in c:\\users\\mila\\anaconda3\\lib\\site-packages (from matplotlib->mediapipe) (4.51.0)\n",
      "Requirement already satisfied: kiwisolver>=1.3.1 in c:\\users\\mila\\anaconda3\\lib\\site-packages (from matplotlib->mediapipe) (1.4.4)\n",
      "Requirement already satisfied: packaging>=20.0 in c:\\users\\mila\\anaconda3\\lib\\site-packages (from matplotlib->mediapipe) (24.1)\n",
      "Requirement already satisfied: pillow>=8 in c:\\users\\mila\\anaconda3\\lib\\site-packages (from matplotlib->mediapipe) (10.4.0)\n",
      "Requirement already satisfied: pyparsing>=2.3.1 in c:\\users\\mila\\anaconda3\\lib\\site-packages (from matplotlib->mediapipe) (3.1.2)\n",
      "Requirement already satisfied: python-dateutil>=2.7 in c:\\users\\mila\\anaconda3\\lib\\site-packages (from matplotlib->mediapipe) (2.9.0.post0)\n",
      "Requirement already satisfied: pycparser in c:\\users\\mila\\anaconda3\\lib\\site-packages (from CFFI>=1.0->sounddevice>=0.4.4->mediapipe) (2.21)\n",
      "Requirement already satisfied: six>=1.5 in c:\\users\\mila\\anaconda3\\lib\\site-packages (from python-dateutil>=2.7->matplotlib->mediapipe) (1.16.0)\n",
      "Downloading mediapipe-0.10.21-cp312-cp312-win_amd64.whl (51.0 MB)\n",
      "   ---------------------------------------- 0.0/51.0 MB ? eta -:--:--\n",
      "   - -------------------------------------- 1.6/51.0 MB 9.3 MB/s eta 0:00:06\n",
      "   -- ------------------------------------- 3.4/51.0 MB 8.0 MB/s eta 0:00:06\n",
      "   --- ------------------------------------ 4.7/51.0 MB 7.7 MB/s eta 0:00:07\n",
      "   ---- ----------------------------------- 6.0/51.0 MB 7.4 MB/s eta 0:00:07\n",
      "   ----- ---------------------------------- 7.6/51.0 MB 7.2 MB/s eta 0:00:07\n",
      "   ------- -------------------------------- 9.4/51.0 MB 7.4 MB/s eta 0:00:06\n",
      "   -------- ------------------------------- 10.7/51.0 MB 7.4 MB/s eta 0:00:06\n",
      "   --------- ------------------------------ 12.1/51.0 MB 7.2 MB/s eta 0:00:06\n",
      "   ---------- ----------------------------- 13.4/51.0 MB 7.0 MB/s eta 0:00:06\n",
      "   ----------- ---------------------------- 14.7/51.0 MB 7.0 MB/s eta 0:00:06\n",
      "   ------------ --------------------------- 16.3/51.0 MB 7.0 MB/s eta 0:00:05\n",
      "   ------------- -------------------------- 17.8/51.0 MB 7.1 MB/s eta 0:00:05\n",
      "   --------------- ------------------------ 19.7/51.0 MB 7.1 MB/s eta 0:00:05\n",
      "   ---------------- ----------------------- 21.5/51.0 MB 7.3 MB/s eta 0:00:05\n",
      "   ------------------ --------------------- 23.1/51.0 MB 7.2 MB/s eta 0:00:04\n",
      "   ------------------ --------------------- 24.1/51.0 MB 7.2 MB/s eta 0:00:04\n",
      "   -------------------- ------------------- 25.7/51.0 MB 7.1 MB/s eta 0:00:04\n",
      "   --------------------- ------------------ 27.3/51.0 MB 7.2 MB/s eta 0:00:04\n",
      "   ---------------------- ----------------- 29.1/51.0 MB 7.2 MB/s eta 0:00:04\n",
      "   ----------------------- ---------------- 30.4/51.0 MB 7.2 MB/s eta 0:00:03\n",
      "   ------------------------ --------------- 31.7/51.0 MB 7.1 MB/s eta 0:00:03\n",
      "   -------------------------- ------------- 33.3/51.0 MB 7.1 MB/s eta 0:00:03\n",
      "   --------------------------- ------------ 34.6/51.0 MB 7.1 MB/s eta 0:00:03\n",
      "   ---------------------------- ----------- 36.2/51.0 MB 7.1 MB/s eta 0:00:03\n",
      "   ----------------------------- ---------- 37.7/51.0 MB 7.1 MB/s eta 0:00:02\n",
      "   ------------------------------- -------- 39.6/51.0 MB 7.1 MB/s eta 0:00:02\n",
      "   -------------------------------- ------- 41.2/51.0 MB 7.2 MB/s eta 0:00:02\n",
      "   --------------------------------- ------ 42.7/51.0 MB 7.2 MB/s eta 0:00:02\n",
      "   ---------------------------------- ----- 43.8/51.0 MB 7.1 MB/s eta 0:00:02\n",
      "   ----------------------------------- ---- 44.8/51.0 MB 7.1 MB/s eta 0:00:01\n",
      "   ------------------------------------ --- 46.4/51.0 MB 7.0 MB/s eta 0:00:01\n",
      "   ------------------------------------- -- 47.7/51.0 MB 7.0 MB/s eta 0:00:01\n",
      "   -------------------------------------- - 49.0/51.0 MB 7.0 MB/s eta 0:00:01\n",
      "   ---------------------------------------  50.6/51.0 MB 7.0 MB/s eta 0:00:01\n",
      "   ---------------------------------------  50.9/51.0 MB 7.0 MB/s eta 0:00:01\n",
      "   ---------------------------------------- 51.0/51.0 MB 6.8 MB/s eta 0:00:00\n",
      "Downloading sentencepiece-0.2.1-cp312-cp312-win_amd64.whl (1.1 MB)\n",
      "   ---------------------------------------- 0.0/1.1 MB ? eta -:--:--\n",
      "   ---------------------------------------- 1.1/1.1 MB 7.3 MB/s eta 0:00:00\n",
      "Installing collected packages: sentencepiece, mediapipe\n",
      "Successfully installed mediapipe-0.10.21 sentencepiece-0.2.1\n",
      "Collecting tensorflow\n",
      "  Using cached tensorflow-2.19.0-cp312-cp312-win_amd64.whl.metadata (4.1 kB)\n",
      "Requirement already satisfied: scikit-learn in c:\\users\\mila\\anaconda3\\lib\\site-packages (1.5.1)\n",
      "Requirement already satisfied: matplotlib in c:\\users\\mila\\anaconda3\\lib\\site-packages (3.9.2)\n",
      "Requirement already satisfied: absl-py>=1.0.0 in c:\\users\\mila\\anaconda3\\lib\\site-packages (from tensorflow) (2.3.1)\n",
      "Requirement already satisfied: astunparse>=1.6.0 in c:\\users\\mila\\anaconda3\\lib\\site-packages (from tensorflow) (1.6.3)\n",
      "Requirement already satisfied: flatbuffers>=24.3.25 in c:\\users\\mila\\anaconda3\\lib\\site-packages (from tensorflow) (25.2.10)\n",
      "Requirement already satisfied: gast!=0.5.0,!=0.5.1,!=0.5.2,>=0.2.1 in c:\\users\\mila\\anaconda3\\lib\\site-packages (from tensorflow) (0.6.0)\n",
      "Requirement already satisfied: google-pasta>=0.1.1 in c:\\users\\mila\\anaconda3\\lib\\site-packages (from tensorflow) (0.2.0)\n",
      "Requirement already satisfied: libclang>=13.0.0 in c:\\users\\mila\\anaconda3\\lib\\site-packages (from tensorflow) (18.1.1)\n",
      "Requirement already satisfied: opt-einsum>=2.3.2 in c:\\users\\mila\\anaconda3\\lib\\site-packages (from tensorflow) (3.4.0)\n",
      "Requirement already satisfied: packaging in c:\\users\\mila\\anaconda3\\lib\\site-packages (from tensorflow) (24.1)\n",
      "Requirement already satisfied: protobuf!=4.21.0,!=4.21.1,!=4.21.2,!=4.21.3,!=4.21.4,!=4.21.5,<6.0.0dev,>=3.20.3 in c:\\users\\mila\\anaconda3\\lib\\site-packages (from tensorflow) (4.25.3)\n",
      "Requirement already satisfied: requests<3,>=2.21.0 in c:\\users\\mila\\anaconda3\\lib\\site-packages (from tensorflow) (2.32.3)\n",
      "Requirement already satisfied: setuptools in c:\\users\\mila\\anaconda3\\lib\\site-packages (from tensorflow) (75.1.0)\n",
      "Requirement already satisfied: six>=1.12.0 in c:\\users\\mila\\anaconda3\\lib\\site-packages (from tensorflow) (1.16.0)\n",
      "Requirement already satisfied: termcolor>=1.1.0 in c:\\users\\mila\\anaconda3\\lib\\site-packages (from tensorflow) (3.1.0)\n",
      "Requirement already satisfied: typing-extensions>=3.6.6 in c:\\users\\mila\\anaconda3\\lib\\site-packages (from tensorflow) (4.11.0)\n",
      "Requirement already satisfied: wrapt>=1.11.0 in c:\\users\\mila\\anaconda3\\lib\\site-packages (from tensorflow) (1.14.1)\n",
      "Requirement already satisfied: grpcio<2.0,>=1.24.3 in c:\\users\\mila\\anaconda3\\lib\\site-packages (from tensorflow) (1.74.0)\n",
      "Requirement already satisfied: tensorboard~=2.19.0 in c:\\users\\mila\\anaconda3\\lib\\site-packages (from tensorflow) (2.19.0)\n",
      "Requirement already satisfied: keras>=3.5.0 in c:\\users\\mila\\anaconda3\\lib\\site-packages (from tensorflow) (3.11.2)\n",
      "Requirement already satisfied: numpy<2.2.0,>=1.26.0 in c:\\users\\mila\\anaconda3\\lib\\site-packages (from tensorflow) (1.26.4)\n",
      "Requirement already satisfied: h5py>=3.11.0 in c:\\users\\mila\\anaconda3\\lib\\site-packages (from tensorflow) (3.11.0)\n",
      "Requirement already satisfied: ml-dtypes<1.0.0,>=0.5.1 in c:\\users\\mila\\anaconda3\\lib\\site-packages (from tensorflow) (0.5.3)\n",
      "Requirement already satisfied: scipy>=1.6.0 in c:\\users\\mila\\anaconda3\\lib\\site-packages (from scikit-learn) (1.13.1)\n",
      "Requirement already satisfied: joblib>=1.2.0 in c:\\users\\mila\\anaconda3\\lib\\site-packages (from scikit-learn) (1.4.2)\n",
      "Requirement already satisfied: threadpoolctl>=3.1.0 in c:\\users\\mila\\anaconda3\\lib\\site-packages (from scikit-learn) (3.5.0)\n",
      "Requirement already satisfied: contourpy>=1.0.1 in c:\\users\\mila\\anaconda3\\lib\\site-packages (from matplotlib) (1.3.3)\n",
      "Requirement already satisfied: cycler>=0.10 in c:\\users\\mila\\anaconda3\\lib\\site-packages (from matplotlib) (0.11.0)\n",
      "Requirement already satisfied: fonttools>=4.22.0 in c:\\users\\mila\\anaconda3\\lib\\site-packages (from matplotlib) (4.51.0)\n",
      "Requirement already satisfied: kiwisolver>=1.3.1 in c:\\users\\mila\\anaconda3\\lib\\site-packages (from matplotlib) (1.4.4)\n",
      "Requirement already satisfied: pillow>=8 in c:\\users\\mila\\anaconda3\\lib\\site-packages (from matplotlib) (10.4.0)\n",
      "Requirement already satisfied: pyparsing>=2.3.1 in c:\\users\\mila\\anaconda3\\lib\\site-packages (from matplotlib) (3.1.2)\n",
      "Requirement already satisfied: python-dateutil>=2.7 in c:\\users\\mila\\anaconda3\\lib\\site-packages (from matplotlib) (2.9.0.post0)\n",
      "Requirement already satisfied: wheel<1.0,>=0.23.0 in c:\\users\\mila\\anaconda3\\lib\\site-packages (from astunparse>=1.6.0->tensorflow) (0.44.0)\n",
      "Requirement already satisfied: rich in c:\\users\\mila\\anaconda3\\lib\\site-packages (from keras>=3.5.0->tensorflow) (13.7.1)\n",
      "Requirement already satisfied: namex in c:\\users\\mila\\anaconda3\\lib\\site-packages (from keras>=3.5.0->tensorflow) (0.1.0)\n",
      "Requirement already satisfied: optree in c:\\users\\mila\\anaconda3\\lib\\site-packages (from keras>=3.5.0->tensorflow) (0.17.0)\n",
      "Requirement already satisfied: charset-normalizer<4,>=2 in c:\\users\\mila\\anaconda3\\lib\\site-packages (from requests<3,>=2.21.0->tensorflow) (3.3.2)\n",
      "Requirement already satisfied: idna<4,>=2.5 in c:\\users\\mila\\anaconda3\\lib\\site-packages (from requests<3,>=2.21.0->tensorflow) (3.7)\n",
      "Requirement already satisfied: urllib3<3,>=1.21.1 in c:\\users\\mila\\anaconda3\\lib\\site-packages (from requests<3,>=2.21.0->tensorflow) (2.2.3)\n",
      "Requirement already satisfied: certifi>=2017.4.17 in c:\\users\\mila\\anaconda3\\lib\\site-packages (from requests<3,>=2.21.0->tensorflow) (2025.8.3)\n",
      "Requirement already satisfied: markdown>=2.6.8 in c:\\users\\mila\\anaconda3\\lib\\site-packages (from tensorboard~=2.19.0->tensorflow) (3.4.1)\n",
      "Requirement already satisfied: tensorboard-data-server<0.8.0,>=0.7.0 in c:\\users\\mila\\anaconda3\\lib\\site-packages (from tensorboard~=2.19.0->tensorflow) (0.7.2)\n",
      "Requirement already satisfied: werkzeug>=1.0.1 in c:\\users\\mila\\anaconda3\\lib\\site-packages (from tensorboard~=2.19.0->tensorflow) (3.0.3)\n",
      "Requirement already satisfied: MarkupSafe>=2.1.1 in c:\\users\\mila\\anaconda3\\lib\\site-packages (from werkzeug>=1.0.1->tensorboard~=2.19.0->tensorflow) (2.1.3)\n",
      "Requirement already satisfied: markdown-it-py>=2.2.0 in c:\\users\\mila\\anaconda3\\lib\\site-packages (from rich->keras>=3.5.0->tensorflow) (2.2.0)\n",
      "Requirement already satisfied: pygments<3.0.0,>=2.13.0 in c:\\users\\mila\\anaconda3\\lib\\site-packages (from rich->keras>=3.5.0->tensorflow) (2.15.1)\n",
      "Requirement already satisfied: mdurl~=0.1 in c:\\users\\mila\\anaconda3\\lib\\site-packages (from markdown-it-py>=2.2.0->rich->keras>=3.5.0->tensorflow) (0.1.0)\n",
      "Using cached tensorflow-2.19.0-cp312-cp312-win_amd64.whl (376.0 MB)\n",
      "Installing collected packages: tensorflow\n",
      "Successfully installed tensorflow-2.19.0\n"
     ]
    }
   ],
   "source": [
    "!pip install numpy==1.26.4\n",
    "!pip install opencv-contrib-python==4.8.1.78\n",
    "!pip install mediapipe\n",
    "!pip install tensorflow scikit-learn matplotlib"
   ]
  },
  {
   "cell_type": "code",
   "execution_count": 5,
   "id": "382c8322-80c7-4ca1-9e3b-be6fc55b8680",
   "metadata": {},
   "outputs": [],
   "source": [
    "import cv2\n",
    "import numpy as np\n",
    "import os\n",
    "from matplotlib import pyplot as plt\n",
    "import time\n",
    "import mediapipe as mp\n",
    "import tensorflow as tf"
   ]
  },
  {
   "cell_type": "code",
   "execution_count": 9,
   "id": "a2c5a73d-dbca-4c63-bc78-58e324c9bfca",
   "metadata": {},
   "outputs": [
    {
     "name": "stdout",
     "output_type": "stream",
     "text": [
      "NumPy: 1.26.4\n",
      "OpenCV: 4.8.1\n",
      "MediaPipe: 0.10.21\n",
      "TensorFlow: 2.19.0\n",
      "GPUs available: []\n"
     ]
    }
   ],
   "source": [
    "print(\"NumPy:\", np.__version__)\n",
    "print(\"OpenCV:\", cv2.__version__)\n",
    "print(\"MediaPipe:\", mp.__version__)\n",
    "print(\"TensorFlow:\", tf.__version__)\n",
    "print(\"GPUs available:\", tf.config.list_physical_devices('GPU'))"
   ]
  },
  {
   "cell_type": "code",
   "execution_count": 11,
   "id": "6cb77737-b830-4285-bf7d-f5d902533d20",
   "metadata": {},
   "outputs": [],
   "source": [
    "mp_holistic = mp.solutions.holistic\n",
    "mp_drawing = mp.solutions.drawing_utils"
   ]
  },
  {
   "cell_type": "code",
   "execution_count": 53,
   "id": "de8b502d-ec77-431d-a2f8-5e390d85a65b",
   "metadata": {},
   "outputs": [],
   "source": [
    "def mediapipe_detection(image, model):\n",
    "    image = cv2.cvtColor(image, cv2.COLOR_BGR2RGB)\n",
    "    image.flags.writeable = False\n",
    "    results = model.process(image)\n",
    "    image.flags.writeable = True\n",
    "    image = cv2.cvtColor(image, cv2.COLOR_RGB2BGR)\n",
    "    return image, results"
   ]
  },
  {
   "cell_type": "code",
   "execution_count": 75,
   "id": "4d7c86b0-4578-4825-b0a0-9a25a7416a96",
   "metadata": {},
   "outputs": [],
   "source": [
    "face_style = mp_drawing.DrawingSpec(color=(0, 255, 255), thickness=1, circle_radius=1)\n",
    "face_points = mp_drawing.DrawingSpec(color=(0, 128, 255), thickness=1, circle_radius=1)\n",
    "\n",
    "pose_style = mp_drawing.DrawingSpec(color=(255, 128, 0), thickness=2, circle_radius=4)\n",
    "pose_points = mp_drawing.DrawingSpec(color=(255, 200, 100), thickness=1, circle_radius=2)\n",
    "\n",
    "left_hand_style = mp_drawing.DrawingSpec(color=(147, 112, 219), thickness=2, circle_radius=4)\n",
    "left_hand_points = mp_drawing.DrawingSpec(color=(186, 85, 211), thickness=1, circle_radius=2)\n",
    "\n",
    "right_hand_style = mp_drawing.DrawingSpec(color=(60, 179, 113), thickness=2, circle_radius=4)\n",
    "right_hand_points = mp_drawing.DrawingSpec(color=(144, 238, 144), thickness=1, circle_radius=2)"
   ]
  },
  {
   "cell_type": "code",
   "execution_count": 71,
   "id": "4b5028c5-38a9-4861-add8-7427bfcd1a3b",
   "metadata": {},
   "outputs": [],
   "source": [
    "def draw_landmarks(image, results):\n",
    "    mp_drawing.draw_landmarks(image, results.face_landmarks, mp_holistic.FACEMESH_CONTOURS, face_style, face_points)\n",
    "    mp_drawing.draw_landmarks(image, results.pose_landmarks, mp_holistic.POSE_CONNECTIONS, pose_style, pose_points) \n",
    "    mp_drawing.draw_landmarks(image, results.left_hand_landmarks, mp_holistic.HAND_CONNECTIONS, left_hand_style, left_hand_points)   \n",
    "    mp_drawing.draw_landmarks(image, results.right_hand_landmarks, mp_holistic.HAND_CONNECTIONS, right_hand_style, right_hand_points) "
   ]
  },
  {
   "cell_type": "code",
   "execution_count": 79,
   "id": "52b8f207-bc67-4365-8e77-ba8285023f61",
   "metadata": {},
   "outputs": [],
   "source": [
    "cap = cv2.VideoCapture(0)\n",
    " \n",
    "with mp_holistic.Holistic(min_detection_confidence=0.5, min_tracking_confidence=0.5) as holistic:\n",
    "    while cap.isOpened():\n",
    "        ret, frame = cap.read()\n",
    "        image, results = mediapipe_detection(frame, holistic)\n",
    "        \n",
    "        draw_landmarks(image, results)\n",
    "        cv2.imshow('OpenCV Feed', image)\n",
    "\n",
    "        if cv2.waitKey(10) & 0xFF == ord('q'):\n",
    "            break\n",
    "    cap.release()\n",
    "    cv2.destroyAllWindows()"
   ]
  },
  {
   "cell_type": "code",
   "execution_count": null,
   "id": "3b9c44e1-832f-4436-83bd-fe89e43a96f9",
   "metadata": {},
   "outputs": [],
   "source": []
  }
 ],
 "metadata": {
  "kernelspec": {
   "display_name": "Python [conda env:base] *",
   "language": "python",
   "name": "conda-base-py"
  },
  "language_info": {
   "codemirror_mode": {
    "name": "ipython",
    "version": 3
   },
   "file_extension": ".py",
   "mimetype": "text/x-python",
   "name": "python",
   "nbconvert_exporter": "python",
   "pygments_lexer": "ipython3",
   "version": "3.12.7"
  }
 },
 "nbformat": 4,
 "nbformat_minor": 5
}
